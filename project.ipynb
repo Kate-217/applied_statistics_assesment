{
 "cells": [
  {
   "cell_type": "markdown",
   "metadata": {},
   "source": [
    "# Analysis of Plant Growth Experiment\n",
    "_______________________________________\n",
    "This notebook analyzes the results of an experiment on plant growth, where the goal is to compare the dried weight of plants under three conditions:\n",
    "\n",
    "Control group (`ctrl`)<br>\n",
    "Treatment 1 (`trt1`)<br>\n",
    "Treatment 2 (`trt2`)<br>\n",
    "\n",
    "The dataset, PlantGrowth, consists of thirty observations with two variables:<br>\n",
    "**weight**: Numeric values representing the dried weight of plants.<br>\n",
    "**group**: A factor variable with three levels (ctrl, trt1, and trt2), indicating the treatment applied.<br>\n",
    "\n",
    "Statistical tests will be performed, including:\n",
    "**$t$-tests**: To compare the mean weights between specific groups.\n",
    "**ANOVA**: To assess whether significant differences in mean weights exist across all three groups.\n",
    "The analysis is aimed at determining whether the treatment conditions have a significant effect on plant growth compared to the control group.\n",
    "____________________________"
   ]
  },
  {
   "cell_type": "code",
   "execution_count": 41,
   "metadata": {},
   "outputs": [],
   "source": [
    "# Importing standard libraries\n",
    "\n",
    "import math  # Mathematical functions\n",
    "import random  # Functions for generating random numbers\n",
    "import pandas as pd  # Library for data manipulation and analysis\n",
    "\n",
    "# Working with numerical arrays\n",
    "import numpy as np\n",
    "\n",
    "# Libraries for data visualization\n",
    "import matplotlib.pyplot as plt  # Basic plotting\n",
    "import seaborn as sns  # Advanced statistical plotting\n",
    "\n",
    "# Libraries for statistical analysis\n",
    "import itertools  # Functions for creating iterator-based operations\n",
    "from scipy import stats  # Statistical functions\n",
    "from scipy.stats import shapiro  # Shapiro-Wilk test for normality\n",
    "from scipy.stats import levene\n",
    "\n",
    "# One-way ANOVA function\n",
    "from scipy.stats import f_oneway"
   ]
  },
  {
   "cell_type": "markdown",
   "metadata": {},
   "source": [
    "## Data description"
   ]
  },
  {
   "cell_type": "code",
   "execution_count": 42,
   "metadata": {},
   "outputs": [],
   "source": [
    "## Saving the data\n",
    "data = pd.read_csv(\"PlantGrowth.csv\")\n",
    "#data"
   ]
  },
  {
   "cell_type": "markdown",
   "metadata": {},
   "source": [
    "The data is stored in a format where the groups are not split into different columns. "
   ]
  },
  {
   "cell_type": "code",
   "execution_count": 43,
   "metadata": {},
   "outputs": [],
   "source": [
    "# Splitting into three groups.\n",
    "\n",
    "# The Control group's data\n",
    "control = data[data['group']=='ctrl']['weight']\n",
    "\n",
    "# The Treatment one data\n",
    "trit1 = control = data[data['group']=='trt1']['weight']\n",
    "\n",
    "# The Treatment two data\n",
    "trit2 = control = data[data['group']=='trt2']['weight']\n"
   ]
  },
  {
   "cell_type": "code",
   "execution_count": 44,
   "metadata": {},
   "outputs": [
    {
     "data": {
      "text/html": [
       "<div>\n",
       "<style scoped>\n",
       "    .dataframe tbody tr th:only-of-type {\n",
       "        vertical-align: middle;\n",
       "    }\n",
       "\n",
       "    .dataframe tbody tr th {\n",
       "        vertical-align: top;\n",
       "    }\n",
       "\n",
       "    .dataframe thead th {\n",
       "        text-align: right;\n",
       "    }\n",
       "</style>\n",
       "<table border=\"1\" class=\"dataframe\">\n",
       "  <thead>\n",
       "    <tr style=\"text-align: right;\">\n",
       "      <th></th>\n",
       "      <th>control</th>\n",
       "      <th>trit1</th>\n",
       "      <th>trit2</th>\n",
       "    </tr>\n",
       "  </thead>\n",
       "  <tbody>\n",
       "    <tr>\n",
       "      <th>count</th>\n",
       "      <td>10.000000</td>\n",
       "      <td>10.000000</td>\n",
       "      <td>10.000000</td>\n",
       "    </tr>\n",
       "    <tr>\n",
       "      <th>mean</th>\n",
       "      <td>5.526000</td>\n",
       "      <td>4.661000</td>\n",
       "      <td>5.526000</td>\n",
       "    </tr>\n",
       "    <tr>\n",
       "      <th>std</th>\n",
       "      <td>0.442573</td>\n",
       "      <td>0.793676</td>\n",
       "      <td>0.442573</td>\n",
       "    </tr>\n",
       "    <tr>\n",
       "      <th>min</th>\n",
       "      <td>4.920000</td>\n",
       "      <td>3.590000</td>\n",
       "      <td>4.920000</td>\n",
       "    </tr>\n",
       "    <tr>\n",
       "      <th>25%</th>\n",
       "      <td>5.267500</td>\n",
       "      <td>4.207500</td>\n",
       "      <td>5.267500</td>\n",
       "    </tr>\n",
       "    <tr>\n",
       "      <th>50%</th>\n",
       "      <td>5.435000</td>\n",
       "      <td>4.550000</td>\n",
       "      <td>5.435000</td>\n",
       "    </tr>\n",
       "    <tr>\n",
       "      <th>75%</th>\n",
       "      <td>5.735000</td>\n",
       "      <td>4.870000</td>\n",
       "      <td>5.735000</td>\n",
       "    </tr>\n",
       "    <tr>\n",
       "      <th>max</th>\n",
       "      <td>6.310000</td>\n",
       "      <td>6.030000</td>\n",
       "      <td>6.310000</td>\n",
       "    </tr>\n",
       "  </tbody>\n",
       "</table>\n",
       "</div>"
      ],
      "text/plain": [
       "         control      trit1      trit2\n",
       "count  10.000000  10.000000  10.000000\n",
       "mean    5.526000   4.661000   5.526000\n",
       "std     0.442573   0.793676   0.442573\n",
       "min     4.920000   3.590000   4.920000\n",
       "25%     5.267500   4.207500   5.267500\n",
       "50%     5.435000   4.550000   5.435000\n",
       "75%     5.735000   4.870000   5.735000\n",
       "max     6.310000   6.030000   6.310000"
      ]
     },
     "execution_count": 44,
     "metadata": {},
     "output_type": "execute_result"
    }
   ],
   "source": [
    "# The describe() method provides a statistical summary of the data\n",
    "# pd.concat concatenates data for better visualization\n",
    "describe_results = pd.concat([control.describe(),trit1.describe(), trit2. describe()], axis=1)\n",
    "describe_results.columns= ['control', 'trit1','trit2']\n",
    "describe_results"
   ]
  },
  {
   "cell_type": "markdown",
   "metadata": {},
   "source": [
    "The `trit1` group has a lower average weight (4.66) compared to the `control` and `trit2` groups (both around 5.53).<br>\n",
    "The `trit1` group also shows more variability in weight (higher standard deviation of 0.79), meaning the weights are more spread out, whereas the other two groups have lower variability (around 0.44).<br>\n",
    "The `trit1` group also has a wider range of weights, starting from 3.59 (the lowest value) to 6.03 (the highest), while the control and trit2 groups have a more consistent range between 4.92 and 6.31.\n",
    "In conclusion, the trit1 group stands out with lower and more variable weights, which could indicate that the treatment or condition applied to this group had a different effect compared to the other two groups."
   ]
  },
  {
   "cell_type": "markdown",
   "metadata": {},
   "source": [
    "## $t$-test for Independent Groups\n",
    "\n",
    "The $t$-test is used to determine if the difference between the means of two groups is statistically significant.\n",
    "\n",
    "When conducting a $t$-test, some [assumptions](https://statistics.laerd.com/statistical-guides/independent-t-test-statistical-guide.php) should be considered."
   ]
  },
  {
   "cell_type": "markdown",
   "metadata": {},
   "source": [
    "### Assumptions for the Independent t-Test\n",
    "\n",
    "1. Assumption of normality of the dependent variable.\n",
    "The independent t-test requires that the dependent variable is approximately normally distributed within each group. Can be tested with the Shapiro-Wilk Test.\n",
    "\n",
    "**The Null hypothesis**: the random variable in the sample is normally distributed.<br>\n",
    "**The Alternative Hypothesis**: The random variable in the sample is not normally distributed.<br>\n",
    "The significance level, or alpha level, is the probability of making the wrong decision when the null hypothesis is true (Type I error).\n",
    "Setting alpha = 0.05, meaning the probability of making a Type I error is 5%.\n",
    "\n",
    "If **p-value < alpha**, we reject the null hypothesis, indicating that the data likely does not follow a normal distribution.\n",
    "\n",
    "If **p-value > alpha**, we fail to reject the null hypothesis, meaning we do not have enough evidence to conclude that the sample data does not come from a normal distribution."
   ]
  },
  {
   "cell_type": "code",
   "execution_count": 45,
   "metadata": {},
   "outputs": [
    {
     "name": "stdout",
     "output_type": "stream",
     "text": [
      "Results of the Shapiro-Wilk Test for control group:\n",
      "We did not get enough evidence to reject The Null Hypothysis \n",
      "that the random variable in the sample is normally distributed. P-Value = 0.56\n",
      "None\n",
      "_______________________________________\n",
      "Results of the Shapiro-Wilk Test for Treatment 1 group:\n",
      "We did not get enough evidence to reject The Null Hypothysis \n",
      "that the random variable in the sample is normally distributed. P-Value = 0.45\n",
      "None\n",
      "_______________________________________\n",
      "Results of the Shapiro-Wilk Test for Treatment 2 group:\n",
      "We did not get enough evidence to reject The Null Hypothysis \n",
      "that the random variable in the sample is normally distributed. P-Value = 0.56\n",
      "None\n",
      "_______________________________________\n"
     ]
    }
   ],
   "source": [
    "# Function for performing the Shapiro-Wilk Test\n",
    "\n",
    "alpha = 0.05\n",
    "\n",
    "def test(data_sample, sanificanse_level):\n",
    "    result = shapiro(data_sample)\n",
    "    \n",
    "    if result[1] > alpha:\n",
    "        print(\n",
    "            f'We did not get enough evidence to reject The Null Hypothysis \\nthat the random variable in the sample is normally distributed. P-Value = {round(result[1],2)}'\n",
    "        )\n",
    "    else:\n",
    "        print(f'There is no evedense to accept The Null Hypothysis. P-Value = {round(result[1],2)}'\n",
    "        )\n",
    "\n",
    "print('Results of the Shapiro-Wilk Test for control group:')\n",
    "print(test(control,alpha))\n",
    "print('_______________________________________')\n",
    "print('Results of the Shapiro-Wilk Test for Treatment 1 group:')\n",
    "print(test(trit1,alpha))\n",
    "print('_______________________________________')\n",
    "print('Results of the Shapiro-Wilk Test for Treatment 2 group:')\n",
    "print(test(trit2,alpha))\n",
    "print('_______________________________________')\n"
   ]
  },
  {
   "cell_type": "markdown",
   "metadata": {},
   "source": [
    "The Shapiro-Wilk Test conducted for the groups shows that the data is normally distributed."
   ]
  },
  {
   "cell_type": "markdown",
   "metadata": {},
   "source": [
    "2. The data doesn't contain significant outliers."
   ]
  },
  {
   "cell_type": "code",
   "execution_count": 46,
   "metadata": {},
   "outputs": [
    {
     "data": {
      "image/png": "[encoded data removed]",
      "text/plain": [
       "<Figure size 600x600 with 1 Axes>"
      ]
     },
     "metadata": {},
     "output_type": "display_data"
    }
   ],
   "source": [
    "# Boxplot\n",
    "\n",
    "#Creating a data frame \n",
    "df = pd.DataFrame({\n",
    "    'control_group':control,\n",
    "    'treatment_group_1':trit1,\n",
    "    'treatment_group_2':trit2\n",
    "})\n",
    "\n",
    "# Creating a box-and-whisker plot to visualize the distribution \n",
    "# and determine whether there are significant outliers.\n",
    "sns.catplot(df, kind='box', height=6)\n",
    "plt.title(\"Distribution of Dried Plant Weights Across Groups\")\n",
    "plt.xlabel(\"Groups\", fontsize=12)\n",
    "plt.ylabel(\"Weight\", fontsize=12)\n",
    "plt.show()\n"
   ]
  },
  {
   "cell_type": "code",
   "execution_count": 47,
   "metadata": {},
   "outputs": [
    {
     "data": {
      "text/plain": [
       "13    3.59\n",
       "15    3.83\n",
       "11    4.17\n",
       "18    4.32\n",
       "12    4.41\n",
       "19    4.69\n",
       "10    4.81\n",
       "17    4.89\n",
       "14    5.87\n",
       "16    6.03\n",
       "Name: weight, dtype: float64"
      ]
     },
     "execution_count": 47,
     "metadata": {},
     "output_type": "execute_result"
    }
   ],
   "source": [
    "trit1.sort_values()"
   ]
  },
  {
   "cell_type": "markdown",
   "metadata": {},
   "source": [
    "Outliers were noticed in Treatment Group 1, and the assumptions of the t-test are not met. As a result, the t-test may not provide accurate results. In this case, an alternative statistical test could be considered, or the outliers should be carefully investigated."
   ]
  },
  {
   "cell_type": "markdown",
   "metadata": {},
   "source": [
    "3. Assumption of homogeneity of variance.\n",
    "The assumption of homogeneity of variance is important for a t-test because it ensures that each group's variability is similar, allowing for accurate test statistics and valid p-values.<br>\n",
    "[Levene’s test](https://www.geeksforgeeks.org/levenes-test/) is used to assess the equality of variance between two different samples. \n",
    "\n",
    "**The null hypothesis** for Levene’s test is that the variance among groups is equal.<br>\n",
    "**The alternative hypothesis** is that the variance among different groups is not equal."
   ]
  },
  {
   "cell_type": "code",
   "execution_count": 48,
   "metadata": {},
   "outputs": [
    {
     "name": "stdout",
     "output_type": "stream",
     "text": [
      "The null hypothesis is not rejected. The variance among groups is equal.\n"
     ]
    }
   ],
   "source": [
    "# Levene's Test of Equality of Variances\n",
    "\n",
    "alpha = 0.05\n",
    "\n",
    "w_stats, p_value = levene(trit1, trit2,\n",
    "                          center='mean')\n",
    " \n",
    "if p_value > alpha:\n",
    "    print(\"The null hypothesis is not rejected. The variance among groups is equal.\")\n",
    "else:\n",
    "    print(\"Reject the Null Hypothesis. The variance among groups is not equal.\")"
   ]
  },
  {
   "cell_type": "markdown",
   "metadata": {},
   "source": [
    "## $t$-test. \n",
    "**The $t$-Test** is a statistical test procedure that tests whether there is a significant difference between the means of two groups.\n",
    "\n",
    "According to the task, it is necessary to determine whether there is a statistically significant difference between Treatment Group 1 and Treatment Group 2. The necessary assumptions have been checked, and outliers were detected in one of the groups, which may affect the accuracy of the test. If the assumptions are not met, alternative tests, such as the Mann-Whitney U test or the Wilcoxon test, may be considered.\n",
    "\n",
    "### Hypothesis:\n",
    "**The null hypothesis**: There is no evidence of a significant difference between Treatment Group 1 and Treatment Group 2.<br>\n",
    "**The alternative hypothesis**: The null hypothesis is not supported. There might be a difference between Treatment Group 1 and Treatment Group 2.\n",
    "\n",
    "\n"
   ]
  },
  {
   "cell_type": "code",
   "execution_count": 49,
   "metadata": {},
   "outputs": [
    {
     "name": "stdout",
     "output_type": "stream",
     "text": [
      "t-statistic = -3.0100985421243616\n",
      "p-value = 0.0075184261182198574\n",
      "------------------------\n",
      "There might be a statistical difference between the two samples.\n"
     ]
    }
   ],
   "source": [
    "# Two samples\n",
    "x = trit1\n",
    "y = trit2\n",
    "\n",
    "# significance level\n",
    "alpha = 0.05\n",
    "\n",
    "# Function for paired t-test:\n",
    "def indep_ttest(first_sample,second_sample,signif_lv):\n",
    "\n",
    "    t_stat, p_val = stats.ttest_ind(x,y)\n",
    "\n",
    "    print(\"t-statistic = \" + str(t_stat))  \n",
    "    print(\"p-value = \" + str(p_val))\n",
    "    print(\"------------------------\") \n",
    "\n",
    "    if p_val <= alpha:\n",
    "        print('There might be a statistical difference between the two samples.')\n",
    "    else:\n",
    "        print('There is no evidence that the difference\\nbetween the samples is statistically significant.')    \n",
    "\n",
    "indep_ttest(x,y,alpha)\n"
   ]
  },
  {
   "cell_type": "markdown",
   "metadata": {},
   "source": [
    "The t-test suggests that there might be a difference between Group 1 and Group 2."
   ]
  },
  {
   "cell_type": "markdown",
   "metadata": {},
   "source": [
    "## ANOVA "
   ]
  },
  {
   "cell_type": "markdown",
   "metadata": {},
   "source": [
    "**ANOVA** (Analysis of Variance) is a statistical method used to test if there are significant differences between the means of three or more independent groups. It compares the variance within each group to the variance between the groups. The goal of ANOVA is to determine whether any of the group means are significantly different from each other.\n",
    "\n",
    "The $t$-test is designed to be performed on two groups at a time. Performing multiple t-tests increases the risk of making a Type I error (false positive). ANOVA compares all three groups simultaneously, providing a single test to check for differences across all groups."
   ]
  },
  {
   "cell_type": "markdown",
   "metadata": {},
   "source": []
  }
 ],
 "metadata": {
  "kernelspec": {
   "display_name": "Python 3",
   "language": "python",
   "name": "python3"
  },
  "language_info": {
   "codemirror_mode": {
    "name": "ipython",
    "version": 3
   },
   "file_extension": ".py",
   "mimetype": "text/x-python",
   "name": "python",
   "nbconvert_exporter": "python",
   "pygments_lexer": "ipython3",
   "version": "3.12.1"
  }
 },
 "nbformat": 4,
 "nbformat_minor": 2
}

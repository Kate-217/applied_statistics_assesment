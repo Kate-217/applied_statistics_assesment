{
 "cells": [
  {
   "cell_type": "markdown",
   "metadata": {},
   "source": [
    "# Analysis of Plant Growth Experiment\n",
    "_______________________________________\n",
    "This notebook analyzes the results of an experiment on plant growth, where the goal is to compare the dried weight of plants under three conditions:\n",
    "\n",
    "Control group (`ctrl`)<br>\n",
    "Treatment 1 (`trt1`)<br>\n",
    "Treatment 2 (`trt2`)<br>\n",
    "\n",
    "The dataset, PlantGrowth, consists of thirty observations with two variables:<br>\n",
    "**weight**: Numeric values representing the dried weight of plants.<br>\n",
    "**group**: A factor variable with three levels (ctrl, trt1, and trt2), indicating the treatment applied.<br>\n",
    "\n",
    "Statistical tests will be performed, including:\n",
    "**$t$-tests**: To compare the mean weights between specific groups.\n",
    "**ANOVA**: To assess whether significant differences in mean weights exist across all three groups.\n",
    "The analysis is aimed at determining whether the treatment conditions have a significant effect on plant growth compared to the control group.\n",
    "____________________________"
   ]
  },
  {
   "cell_type": "code",
   "execution_count": 32,
   "metadata": {},
   "outputs": [],
   "source": [
    "# Importing standard libraries\n",
    "\n",
    "import math  # Mathematical functions\n",
    "import random  # Functions for generating random numbers\n",
    "import pandas as pd  # Library for data manipulation and analysis\n",
    "\n",
    "# Working with numerical arrays\n",
    "import numpy as np\n",
    "\n",
    "# Libraries for data visualization\n",
    "import matplotlib.pyplot as plt  # Basic plotting\n",
    "import seaborn as sns  # Advanced statistical plotting\n",
    "\n",
    "# Libraries for statistical analysis\n",
    "import itertools  # Functions for creating iterator-based operations\n",
    "from scipy import stats  # Statistical functions\n",
    "from scipy.stats import shapiro  # Shapiro-Wilk test for normality\n",
    "\n",
    "# One-way ANOVA function\n",
    "from scipy.stats import f_oneway"
   ]
  },
  {
   "cell_type": "markdown",
   "metadata": {},
   "source": [
    "## Data description"
   ]
  },
  {
   "cell_type": "code",
   "execution_count": 33,
   "metadata": {},
   "outputs": [],
   "source": [
    "## Saving the data\n",
    "data = pd.read_csv(\"PlantGrowth.csv\")\n",
    "#data"
   ]
  },
  {
   "cell_type": "markdown",
   "metadata": {},
   "source": [
    "The data is stored in a format where the groups are not split into different columns. "
   ]
  },
  {
   "cell_type": "code",
   "execution_count": 34,
   "metadata": {},
   "outputs": [],
   "source": [
    "# Splitting into three groups.\n",
    "\n",
    "# The Control group's data\n",
    "control = data[data['group']=='ctrl']['weight']\n",
    "\n",
    "# The Treatment one data\n",
    "trit1 = control = data[data['group']=='trt1']['weight']\n",
    "\n",
    "# The Treatment two data\n",
    "trit2 = control = data[data['group']=='trt2']['weight']\n"
   ]
  },
  {
   "cell_type": "code",
   "execution_count": null,
   "metadata": {},
   "outputs": [
    {
     "data": {
      "text/html": [
       "<div>\n",
       "<style scoped>\n",
       "    .dataframe tbody tr th:only-of-type {\n",
       "        vertical-align: middle;\n",
       "    }\n",
       "\n",
       "    .dataframe tbody tr th {\n",
       "        vertical-align: top;\n",
       "    }\n",
       "\n",
       "    .dataframe thead th {\n",
       "        text-align: right;\n",
       "    }\n",
       "</style>\n",
       "<table border=\"1\" class=\"dataframe\">\n",
       "  <thead>\n",
       "    <tr style=\"text-align: right;\">\n",
       "      <th></th>\n",
       "      <th>control</th>\n",
       "      <th>trit1</th>\n",
       "      <th>trit2</th>\n",
       "    </tr>\n",
       "  </thead>\n",
       "  <tbody>\n",
       "    <tr>\n",
       "      <th>count</th>\n",
       "      <td>10.000000</td>\n",
       "      <td>10.000000</td>\n",
       "      <td>10.000000</td>\n",
       "    </tr>\n",
       "    <tr>\n",
       "      <th>mean</th>\n",
       "      <td>5.526000</td>\n",
       "      <td>4.661000</td>\n",
       "      <td>5.526000</td>\n",
       "    </tr>\n",
       "    <tr>\n",
       "      <th>std</th>\n",
       "      <td>0.442573</td>\n",
       "      <td>0.793676</td>\n",
       "      <td>0.442573</td>\n",
       "    </tr>\n",
       "    <tr>\n",
       "      <th>min</th>\n",
       "      <td>4.920000</td>\n",
       "      <td>3.590000</td>\n",
       "      <td>4.920000</td>\n",
       "    </tr>\n",
       "    <tr>\n",
       "      <th>25%</th>\n",
       "      <td>5.267500</td>\n",
       "      <td>4.207500</td>\n",
       "      <td>5.267500</td>\n",
       "    </tr>\n",
       "    <tr>\n",
       "      <th>50%</th>\n",
       "      <td>5.435000</td>\n",
       "      <td>4.550000</td>\n",
       "      <td>5.435000</td>\n",
       "    </tr>\n",
       "    <tr>\n",
       "      <th>75%</th>\n",
       "      <td>5.735000</td>\n",
       "      <td>4.870000</td>\n",
       "      <td>5.735000</td>\n",
       "    </tr>\n",
       "    <tr>\n",
       "      <th>max</th>\n",
       "      <td>6.310000</td>\n",
       "      <td>6.030000</td>\n",
       "      <td>6.310000</td>\n",
       "    </tr>\n",
       "  </tbody>\n",
       "</table>\n",
       "</div>"
      ],
      "text/plain": [
       "         control      trit1      trit2\n",
       "count  10.000000  10.000000  10.000000\n",
       "mean    5.526000   4.661000   5.526000\n",
       "std     0.442573   0.793676   0.442573\n",
       "min     4.920000   3.590000   4.920000\n",
       "25%     5.267500   4.207500   5.267500\n",
       "50%     5.435000   4.550000   5.435000\n",
       "75%     5.735000   4.870000   5.735000\n",
       "max     6.310000   6.030000   6.310000"
      ]
     },
     "execution_count": 36,
     "metadata": {},
     "output_type": "execute_result"
    }
   ],
   "source": [
    "# The describe() method provides a statistical summary of the data\n",
    "# pd.concat concatenates data for better visualization\n",
    "describe_results = pd.concat([control.describe(),trit1.describe(), trit2. describe()], axis=1)\n",
    "describe_results.columns= ['control', 'trit1','trit2']\n",
    "describe_results"
   ]
  },
  {
   "cell_type": "markdown",
   "metadata": {},
   "source": [
    "The `trit1` group has a lower average weight (4.66) compared to the `control` and `trit2` groups (both around 5.53).<br>\n",
    "The `trit1` group also shows more variability in weight (higher standard deviation of 0.79), meaning the weights are more spread out, whereas the other two groups have lower variability (around 0.44).<br>\n",
    "The `trit1` group also has a wider range of weights, starting from 3.59 (the lowest value) to 6.03 (the highest), while the control and trit2 groups have a more consistent range between 4.92 and 6.31.\n",
    "In conclusion, the trit1 group stands out with lower and more variable weights, which could indicate that the treatment or condition applied to this group had a different effect compared to the other two groups."
   ]
  },
  {
   "cell_type": "markdown",
   "metadata": {},
   "source": [
    "## $t$-test for Independent Groups\n",
    "\n",
    "The $t$-test is used to determine if the difference between the means of two groups is statistically significant."
   ]
  },
  {
   "cell_type": "markdown",
   "metadata": {},
   "source": []
  }
 ],
 "metadata": {
  "kernelspec": {
   "display_name": "Python 3",
   "language": "python",
   "name": "python3"
  },
  "language_info": {
   "codemirror_mode": {
    "name": "ipython",
    "version": 3
   },
   "file_extension": ".py",
   "mimetype": "text/x-python",
   "name": "python",
   "nbconvert_exporter": "python",
   "pygments_lexer": "ipython3",
   "version": "3.12.1"
  }
 },
 "nbformat": 4,
 "nbformat_minor": 2
}

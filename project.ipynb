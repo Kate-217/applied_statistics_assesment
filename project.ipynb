{
 "cells": [
  {
   "cell_type": "markdown",
   "metadata": {},
   "source": [
    "# Analysis of Plant Growth Experiment\n",
    "_______________________________________\n",
    "This notebook analyzes the results of an experiment on plant growth, where the goal is to compare the dried weight of plants under three conditions:\n",
    "\n",
    "Control group (`ctrl`)<br>\n",
    "Treatment 1 (`trt1`)<br>\n",
    "Treatment 2 (`trt2`)<br>\n",
    "\n",
    "The dataset, PlantGrowth, consists of thirty observations with two variables:<br>\n",
    "**weight**: Numeric values representing the dried weight of plants.<br>\n",
    "**group**: A factor variable with three levels (ctrl, trt1, and trt2), indicating the treatment applied.<br>\n",
    "\n",
    "Statistical tests will be performed, including:\n",
    "**$t$-tests**: To compare the mean weights between specific groups.\n",
    "**ANOVA**: To assess whether significant differences in mean weights exist across all three groups.\n",
    "The analysis is aimed at determining whether the treatment conditions have a significant effect on plant growth compared to the control group.\n",
    "____________________________"
   ]
  },
  {
   "cell_type": "code",
   "execution_count": 1,
   "metadata": {},
   "outputs": [],
   "source": [
    "# Importing standard libraries\n",
    "\n",
    "import math  # Mathematical functions\n",
    "import random  # Functions for generating random numbers\n",
    "import pandas as pd  # Library for data manipulation and analysis\n",
    "\n",
    "# Working with numerical arrays\n",
    "import numpy as np\n",
    "\n",
    "# Libraries for data visualization\n",
    "import matplotlib.pyplot as plt  # Basic plotting\n",
    "import seaborn as sns  # Advanced statistical plotting\n",
    "\n",
    "# Libraries for statistical analysis\n",
    "import itertools  # Functions for creating iterator-based operations\n",
    "from scipy import stats  # Statistical functions\n",
    "from scipy.stats import shapiro  # Shapiro-Wilk test for normality\n",
    "\n",
    "# One-way ANOVA function\n",
    "from scipy.stats import f_oneway"
   ]
  },
  {
   "cell_type": "code",
   "execution_count": null,
   "metadata": {},
   "outputs": [],
   "source": []
  }
 ],
 "metadata": {
  "kernelspec": {
   "display_name": "Python 3",
   "language": "python",
   "name": "python3"
  },
  "language_info": {
   "codemirror_mode": {
    "name": "ipython",
    "version": 3
   },
   "file_extension": ".py",
   "mimetype": "text/x-python",
   "name": "python",
   "nbconvert_exporter": "python",
   "pygments_lexer": "ipython3",
   "version": "3.12.1"
  }
 },
 "nbformat": 4,
 "nbformat_minor": 2
}

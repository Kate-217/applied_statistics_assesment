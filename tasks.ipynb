{
 "cells": [
  {
   "cell_type": "code",
   "execution_count": 342,
   "metadata": {},
   "outputs": [],
   "source": [
    "import math\n",
    "import random\n",
    "import numpy as np\n",
    "import matplotlib.pyplot as plt\n",
    "import seaborn as sns\n",
    "import itertools\n",
    "from scipy import stats"
   ]
  },
  {
   "cell_type": "markdown",
   "metadata": {},
   "source": [
    "# Tasks 1-4\n"
   ]
  },
  {
   "cell_type": "code",
   "execution_count": null,
   "metadata": {},
   "outputs": [],
   "source": []
  },
  {
   "cell_type": "markdown",
   "metadata": {},
   "source": [
    "## Task 1: Permutations and Combinations\n",
    "\n",
    "In the Lady Tasting Tea experiment, we have twelve cups of tea: six with milk poured first and six with tea poured first. A person claims they can distinguish the order by taste. To test this, we ask them to identify which six cups had milk poured first.<br>\n",
    "### 1.1. Calculate the probability that they correctly identify all six cups by random guessing, assuming they have no special ability."
   ]
  },
  {
   "cell_type": "code",
   "execution_count": 343,
   "metadata": {},
   "outputs": [],
   "source": [
    "# Initial conditions of the experiment:\n",
    "\n",
    "total_cups = 12\n",
    "with_milk_first = 6\n",
    "with_tea_first = 6\n"
   ]
  },
  {
   "cell_type": "markdown",
   "metadata": {},
   "source": [
    "Calculating the number of ways to choose six cups with milk poured first out of twelve cups can be done using **the choose function** formula.\n",
    "\n",
    "Where:<br>\n",
    "**n** = total_cups<br>\n",
    "**k** = with_milk_first<br>\n",
    "\n",
    "**number_of_ways = math.factorial(n) // (math.factorial(k) * math.factorial(n - k))**<br>\n",
    "\n",
    "https://www.w3schools.com/python/ref_math_comb.asp"
   ]
  },
  {
   "cell_type": "code",
   "execution_count": 344,
   "metadata": {},
   "outputs": [
    {
     "data": {
      "text/plain": [
       "924"
      ]
     },
     "execution_count": 344,
     "metadata": {},
     "output_type": "execute_result"
    }
   ],
   "source": [
    "# The function **math.comb** in Python is the choose function and calculates all the possible ways to choose k from n. \n",
    "# The order does not matter and the elements can't be selected twice.\n",
    "total_comb = math.comb(total_cups,with_milk_first)\n",
    "total_comb"
   ]
  },
  {
   "cell_type": "markdown",
   "metadata": {},
   "source": [
    "We found that there are 924 ways to choose 6 cups out of 12. We agreed, that the order doesn't matter, so there are only 1 way to choose all the cups with milk first. A person have no special powers and selection is just gessing.\n",
    "Now we can calculate the probability that they selects the six correct cups."
   ]
  },
  {
   "cell_type": "code",
   "execution_count": 345,
   "metadata": {},
   "outputs": [],
   "source": [
    "# Calculating probability:\n",
    "prob = 1/total_comb"
   ]
  },
  {
   "cell_type": "code",
   "execution_count": 346,
   "metadata": {},
   "outputs": [
    {
     "data": {
      "text/plain": [
       "12"
      ]
     },
     "execution_count": 346,
     "metadata": {},
     "output_type": "execute_result"
    }
   ],
   "source": [
    "# The cup labels:\n",
    "labels = ['a','b','c','d','e','f','g','h','i','j','k','l']\n",
    "len(labels)\n",
    "#labels = list(range(total_cups))\n"
   ]
  },
  {
   "cell_type": "markdown",
   "metadata": {},
   "source": [
    "Ref.: https://www.geeksforgeeks.org/python-itertools-combinations-function/ <br>\n",
    "\n",
    "**itertools.combinations()** generates all possible tuples from a given sequence or set of elements, treating each element as unique based on its position in the sequence.<br>\n",
    "We use it to generate all the ways six labeled cups might be choosen. "
   ]
  },
  {
   "cell_type": "code",
   "execution_count": 347,
   "metadata": {},
   "outputs": [
    {
     "data": {
      "text/plain": [
       "\"First 10 sets out of 924 possible options [('a', 'b', 'c', 'd', 'e', 'f'), ('a', 'b', 'c', 'd', 'e', 'g'), ('a', 'b', 'c', 'd', 'e', 'h'), ('a', 'b', 'c', 'd', 'e', 'i'), ('a', 'b', 'c', 'd', 'e', 'j'), ('a', 'b', 'c', 'd', 'e', 'k'), ('a', 'b', 'c', 'd', 'e', 'l'), ('a', 'b', 'c', 'd', 'f', 'g'), ('a', 'b', 'c', 'd', 'f', 'h'), ('a', 'b', 'c', 'd', 'f', 'i')]\""
      ]
     },
     "metadata": {},
     "output_type": "display_data"
    },
    {
     "name": "stdout",
     "output_type": "stream",
     "text": [
      "Number of combinations 924\n"
     ]
    }
   ],
   "source": [
    "# The list combs will keep possible combinations of six cups out of our list \"labels\":\n",
    "combs = list(itertools.combinations(labels,with_milk_first))\n",
    "\n",
    "# Show 10 out of 924\n",
    "display(f'First 10 sets out of 924 possible options {combs[0:10]}')\n",
    "\n",
    "print(f'Number of combinations {len(combs)}')"
   ]
  },
  {
   "cell_type": "code",
   "execution_count": 348,
   "metadata": {},
   "outputs": [
    {
     "data": {
      "text/plain": [
       "['i', 'j', 'l', 'h', 'k', 'f']"
      ]
     },
     "execution_count": 348,
     "metadata": {},
     "output_type": "execute_result"
    }
   ],
   "source": [
    "# Now we choose six random cups to put milk in first:\n",
    "labels_with_milk = random.sample(labels,6)\n",
    "labels_with_milk"
   ]
  },
  {
   "cell_type": "markdown",
   "metadata": {},
   "source": [
    "List contain elements in a particular order, but we agreed that the order doesn't matter. We turn labels_with_milk into a set."
   ]
  },
  {
   "cell_type": "code",
   "execution_count": 349,
   "metadata": {},
   "outputs": [
    {
     "data": {
      "text/plain": [
       "{'f', 'h', 'i', 'j', 'k', 'l'}"
      ]
     },
     "execution_count": 349,
     "metadata": {},
     "output_type": "execute_result"
    }
   ],
   "source": [
    "set_with_milk_first = set(labels_with_milk)\n",
    "set_with_milk_first"
   ]
  },
  {
   "cell_type": "markdown",
   "metadata": {},
   "source": [
    "Ref.: https://www.w3schools.com/python/ref_set_intersection.asp<br>\n",
    "Now, when we know what cups are with milk first, we can check how many cups will be named correctly in each possible way to choose them. \n",
    "The **intersection()** method returns a set that contains the similarity between two or more sets.\n"
   ]
  },
  {
   "cell_type": "code",
   "execution_count": 350,
   "metadata": {},
   "outputs": [],
   "source": [
    "# In the list we will write the number of correctly guessed cups with milk in first in each of the possible sets.\n",
    "no_correct_guesses = []\n",
    "\n",
    "for comb in combs:\n",
    "    #turn comb into a set:\n",
    "    s1 =set(comb)\n",
    "    s2 = set_with_milk_first\n",
    "    \n",
    "    #Checking if there are any overlaps\n",
    "    overlap = s1.intersection(s2)\n",
    "    \n",
    "    # we need only a number of overlaps, so we do append of len(overlap) to the no_correct_guesses\n",
    "    no_correct_guesses.append(len(overlap))\n",
    "    #print(comb, overlap, len(overlap))"
   ]
  },
  {
   "cell_type": "markdown",
   "metadata": {},
   "source": [
    "Ref.: https://numpy.org/devdocs/reference/generated/numpy.unique.html<br>\n",
    "We got the list of numbers of correctly named cups with milk in first. The maximum correct guesses in each set is six, and the minimum is zero. We want to figure out how many times all possible overlaps occurred."
   ]
  },
  {
   "cell_type": "code",
   "execution_count": 351,
   "metadata": {},
   "outputs": [
    {
     "name": "stdout",
     "output_type": "stream",
     "text": [
      "(array([0, 1, 2, 3, 4, 5, 6]), array([  1,  36, 225, 400, 225,  36,   1]))\n"
     ]
    }
   ],
   "source": [
    "counts = np.unique(no_correct_guesses, return_counts=True)\n",
    "print(counts)"
   ]
  },
  {
   "cell_type": "markdown",
   "metadata": {},
   "source": [
    "We got 2 arrays. One with possible overlaps and another with it's frequency.<br>\n",
    "\n",
    "There is **one** way to choose all the cups **with tee in first** and **one** way to choose all the cups **with milk in first.**<br>\n",
    "\n",
    "**One** cup with milk in first might be found in **thirty six sets**, as well as **five** cups with milk in first.<br>"
   ]
  },
  {
   "cell_type": "code",
   "execution_count": 352,
   "metadata": {},
   "outputs": [
    {
     "data": {
      "image/png": "[encoded data removed]",
      "text/plain": [
       "<Figure size 640x480 with 1 Axes>"
      ]
     },
     "metadata": {},
     "output_type": "display_data"
    }
   ],
   "source": [
    "plt.fig = figsize=(10, 6)\n",
    "sns.barplot(x=counts[0], y=counts[1], hue= counts[1])\n",
    "plt.title('Frequency on possible overlaps')\n",
    "plt.xlabel('number of correctly guessed cups')\n",
    "plt.ylabel('number of ways to choose it')\n",
    "plt.grid()\n",
    "plt.show()"
   ]
  },
  {
   "cell_type": "markdown",
   "metadata": {},
   "source": [
    "According to the barchart, for a person with no special power, there are more chanses to guess 3 cups with milk first. "
   ]
  },
  {
   "cell_type": "markdown",
   "metadata": {},
   "source": [
    "### 1.2. One error. Calculate the probability that they identify **at least five of the six** correct cups by random guessing."
   ]
  },
  {
   "cell_type": "markdown",
   "metadata": {},
   "source": [
    "Now I whant to determine the probability of guessing six cups with **one error**. That means that they must choose either **five** cups with milk in first out of **six**, or **6** cups with milk in first.  In this case I will calculate all the events together: "
   ]
  },
  {
   "cell_type": "code",
   "execution_count": 353,
   "metadata": {},
   "outputs": [
    {
     "name": "stdout",
     "output_type": "stream",
     "text": [
      "The probability to pick at least five cups correctly is 4.0%\n"
     ]
    }
   ],
   "source": [
    "#all the possible correct ways with one error and without an error:\n",
    "correct_one = (36+1)\n",
    "\n",
    "# all the possible ways to choose 6 cups\n",
    "total_comb\n",
    "\n",
    "prob_one_error = correct_one/total_comb\n",
    "print(f'The probability to pick at least five cups correctly is {round(prob_one_error,3)*100}%')"
   ]
  },
  {
   "cell_type": "markdown",
   "metadata": {},
   "source": [
    "### 1.3. Are two errors acceptable?"
   ]
  },
  {
   "cell_type": "code",
   "execution_count": 354,
   "metadata": {},
   "outputs": [
    {
     "name": "stdout",
     "output_type": "stream",
     "text": [
      "The probability to pick at least four cups correctly is 28.4%\n"
     ]
    }
   ],
   "source": [
    "# we need to sum all events with one error, with two and without an error\n",
    "correct_two = (1 + 36 + 225)\n",
    "\n",
    "# all possible ways to celect 6 cups\n",
    "total_comb\n",
    "\n",
    "prob_two_errors = correct_two/total_comb\n",
    "print(f'The probability to pick at least four cups correctly is {(round(prob_two_errors,3)*100)}%')"
   ]
  },
  {
   "cell_type": "markdown",
   "metadata": {},
   "source": [
    "When designing a statistical test, we must decide on an acceptable significance level. Besides, two errors and four errors are equally likely, according to the barchart. If two errors are allowed, this increases the probability of a Type I error — where the null hypothesis is true, but we mistakenly reject it.  In this case, the null hypothesis is: \"The person is selecting the cups randomly and does not have the ability to distinguish the cups with milk in first."
   ]
  },
  {
   "cell_type": "markdown",
   "metadata": {},
   "source": [
    "## Task 2: numpy's Normal Distribution\n",
    "### 2.1.Generate Sample Data:\n",
    "Use **numpy.random.normal()** to generate a sample of 100,000 values.\n",
    "Set the mean to 10.0 and the standard deviation to 3.0."
   ]
  },
  {
   "cell_type": "markdown",
   "metadata": {},
   "source": [
    "Ref.:<br> [numpy.random.normal](https://numpy.org/doc/2.0/reference/random/generated/numpy.random.normal.html#numpy-random-normal)\n",
    "\n",
    "random.normal(loc=0.0, scale=1.0, size=None)<br>\n",
    "\n",
    "loc : Mean (“centre”) of the distribution.<br>\n",
    "scale: Standard deviation (spread or “width”) of the distribution.<br>\n",
    "size: Output shape."
   ]
  },
  {
   "cell_type": "code",
   "execution_count": 355,
   "metadata": {},
   "outputs": [],
   "source": [
    "#mean\n",
    "mean=10.0\n",
    "\n",
    "#standard deviation \n",
    "std=3.0\n",
    "\n",
    "#sample size\n",
    "size=5000\n",
    "\n",
    "#Seed for repeating the results\n",
    "seed = 2\n",
    "np.random.seed(seed)\n",
    "\n",
    "sample = np.random.normal(mean,std,size)\n",
    "#sample[0:8]"
   ]
  },
  {
   "cell_type": "markdown",
   "metadata": {},
   "source": [
    "### 2.2.Test for Normality:\n",
    "Use the **scipy.stats.shapiro()** function to assess whether the generated sample is normally distributed.\n",
    "Interpret and explain the results.\n"
   ]
  },
  {
   "cell_type": "markdown",
   "metadata": {},
   "source": [
    "Ref.:<br>[Shapiro-Wilk test](https://www.geeksforgeeks.org/how-to-perform-a-shapiro-wilk-test-in-python/)<br>\n",
    "[Alpha level](https://www.statisticshowto.com/probability-and-statistics/statistics-definitions/what-is-an-alpha-level/)<br>\n",
    "\n",
    "**Shapiro-Wilk test** is a test of normality, it determines whether the given sample comes from the normal distribution or not. \n",
    "\n",
    "**Null hypothesis**: the random variable in the sample is normally distributed.<br>\n",
    "**Alternative Hypothesis**: The random variable in the sample is not normally distributed."
   ]
  },
  {
   "cell_type": "code",
   "execution_count": 356,
   "metadata": {},
   "outputs": [],
   "source": [
    "#import libraries\n",
    "from scipy.stats import shapiro"
   ]
  },
  {
   "cell_type": "markdown",
   "metadata": {},
   "source": [
    "\n",
    "**Setting Alpha level**\n",
    "\n",
    "The significance level or alpha level is the probability of making the wrong decision when the null hypothesis is true (Type I error).\n",
    "\n",
    "We set alpha = 0.05, which means that the probability of making a Type I error is 5%.\n",
    "\n",
    "If **p-value < alpha**, we would reject the null hypothesis, indicating the data likely does not follow a normal distribution.\n",
    "\n",
    "If **p-value > alpha**, we fail to reject the null hypothesis. This means we do not have enough evidence to say the sample data doesn't come from the normal distribution. "
   ]
  },
  {
   "cell_type": "code",
   "execution_count": 357,
   "metadata": {},
   "outputs": [],
   "source": [
    "alpha = 0.05\n",
    "\n",
    "# function for performing the Shapiro-Wilk Test\n",
    "\n",
    "def test(data_sample, sanificanse_level):\n",
    "    result = shapiro(data_sample)\n",
    "    \n",
    "    if result[1] > alpha:\n",
    "        print(\n",
    "            f'We did not get enough evidence to reject The Null Hypothysis. P-Value = {round(result[1],2)}'\n",
    "        )\n",
    "    else:\n",
    "        print(f'There is no evedense to accept The Null Hypothysis. P-Value = {round(result[1],2)}'\n",
    "        )\n"
   ]
  },
  {
   "cell_type": "code",
   "execution_count": 358,
   "metadata": {},
   "outputs": [
    {
     "name": "stdout",
     "output_type": "stream",
     "text": [
      "We did not get enough evidence to reject The Null Hypothysis. P-Value = 0.33\n"
     ]
    }
   ],
   "source": [
    "#Run the function with our sample:\n",
    "\n",
    "test(sample,alpha)"
   ]
  },
  {
   "cell_type": "markdown",
   "metadata": {},
   "source": [
    "The Shapiro-Wilk test was performed, and the results indicate that our sample data is consistent with a normal distribution."
   ]
  },
  {
   "cell_type": "markdown",
   "metadata": {},
   "source": [
    "\n",
    "### 2.3. Visualize the Data:\n",
    "Plot a histogram of your values and plot the corresponding normal distribution probability density function on top of it.\n"
   ]
  },
  {
   "cell_type": "code",
   "execution_count": 359,
   "metadata": {},
   "outputs": [
    {
     "data": {
      "image/png": "[encoded data removed]",
      "text/plain": [
       "<Figure size 1000x500 with 1 Axes>"
      ]
     },
     "metadata": {},
     "output_type": "display_data"
    }
   ],
   "source": [
    "fig,ax = plt.subplots(figsize=(10, 5))\n",
    "\n",
    "#Creating a histogram\n",
    " \n",
    "# density=True is a parameter for normalization.\n",
    "# The hist is normalized so that the area under the histogram integrates to 1. \n",
    "# This is important for probability distributions because \n",
    "# the total probability of all outcomes should equal 1\n",
    "\n",
    "ax.hist(sample, density=True,color='darkgreen')\n",
    "ax.set_title(\"Normal Distribution\")\n",
    "ax.set_xlabel(\"Value\")\n",
    "ax.set_ylabel(\"Density\")\n",
    "ax.grid(color='gray', linestyle='--', linewidth=0.5, alpha=0.7)\n",
    "\n",
    "#For creating probability density function we need to find minimal and maximun x value,\n",
    "#A size of sample and corresponding y values\n",
    "\n",
    "# Ref.: [How to Plot Normal Distribution over Histogram in Python](https://www.geeksforgeeks.org/how-to-plot-normal-distribution-over-histogram-in-python/)\n",
    "\n",
    "min_x = sample.min() #minimal x value \n",
    "max_x = sample.max() #maximal x value \n",
    "x = np.linspace(min_x, max_x, len(sample))\n",
    "y = stats.norm.pdf(x, mean, std) # geting y values\n",
    "\n",
    "#plot\n",
    "ax.plot(x,y,'r-', label='PDF', linewidth=2)\n",
    "ax.annotate(xytext=[15, 0.12], text='Probability Density Function', xy=[11.5,0.12], arrowprops={'arrowstyle': '->', 'color': 'black'})\n",
    "\n",
    "#show the plot\n",
    "plt.show()"
   ]
  },
  {
   "cell_type": "markdown",
   "metadata": {},
   "source": []
  }
 ],
 "metadata": {
  "kernelspec": {
   "display_name": "base",
   "language": "python",
   "name": "python3"
  },
  "language_info": {
   "codemirror_mode": {
    "name": "ipython",
    "version": 3
   },
   "file_extension": ".py",
   "mimetype": "text/x-python",
   "name": "python",
   "nbconvert_exporter": "python",
   "pygments_lexer": "ipython3",
   "version": "3.11.5"
  }
 },
 "nbformat": 4,
 "nbformat_minor": 2
}
